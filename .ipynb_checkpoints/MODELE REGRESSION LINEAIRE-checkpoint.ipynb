{
 "cells": [
  {
   "cell_type": "code",
   "execution_count": 1,
   "id": "f7f76043",
   "metadata": {
    "pycharm": {
     "name": "#%%\n"
    }
   },
   "outputs": [],
   "source": [
    "import pandas as pd"
   ]
  },
  {
   "cell_type": "code",
   "execution_count": 91,
   "id": "de002ac4",
   "metadata": {},
   "outputs": [],
   "source": [
    "import numpy as np"
   ]
  },
  {
   "cell_type": "code",
   "execution_count": 150,
   "id": "5c9f5ebb",
   "metadata": {
    "pycharm": {
     "name": "#%%\n"
    }
   },
   "outputs": [],
   "source": [
    "df0 = pd.read_csv('train.csv')"
   ]
  },
  {
   "cell_type": "code",
   "execution_count": 153,
   "id": "8846ff0f",
   "metadata": {
    "pycharm": {
     "name": "#%%\n"
    }
   },
   "outputs": [
    {
     "data": {
      "text/html": [
       "<div>\n",
       "<style scoped>\n",
       "    .dataframe tbody tr th:only-of-type {\n",
       "        vertical-align: middle;\n",
       "    }\n",
       "\n",
       "    .dataframe tbody tr th {\n",
       "        vertical-align: top;\n",
       "    }\n",
       "\n",
       "    .dataframe thead th {\n",
       "        text-align: right;\n",
       "    }\n",
       "</style>\n",
       "<table border=\"1\" class=\"dataframe\">\n",
       "  <thead>\n",
       "    <tr style=\"text-align: right;\">\n",
       "      <th></th>\n",
       "      <th>total_rooms</th>\n",
       "      <th>price_by_building</th>\n",
       "      <th>TotalBsmtSF</th>\n",
       "      <th>GarageArea</th>\n",
       "      <th>qual_area_pound</th>\n",
       "      <th>SalePrice</th>\n",
       "    </tr>\n",
       "  </thead>\n",
       "  <tbody>\n",
       "    <tr>\n",
       "      <th>0</th>\n",
       "      <td>9</td>\n",
       "      <td>66.955684</td>\n",
       "      <td>856</td>\n",
       "      <td>548</td>\n",
       "      <td>11970</td>\n",
       "      <td>208500</td>\n",
       "    </tr>\n",
       "    <tr>\n",
       "      <th>1</th>\n",
       "      <td>6</td>\n",
       "      <td>60.824397</td>\n",
       "      <td>1262</td>\n",
       "      <td>460</td>\n",
       "      <td>7572</td>\n",
       "      <td>181500</td>\n",
       "    </tr>\n",
       "    <tr>\n",
       "      <th>2</th>\n",
       "      <td>7</td>\n",
       "      <td>67.441159</td>\n",
       "      <td>920</td>\n",
       "      <td>608</td>\n",
       "      <td>12502</td>\n",
       "      <td>223500</td>\n",
       "    </tr>\n",
       "    <tr>\n",
       "      <th>3</th>\n",
       "      <td>8</td>\n",
       "      <td>44.943820</td>\n",
       "      <td>756</td>\n",
       "      <td>642</td>\n",
       "      <td>12019</td>\n",
       "      <td>140000</td>\n",
       "    </tr>\n",
       "    <tr>\n",
       "      <th>4</th>\n",
       "      <td>10</td>\n",
       "      <td>59.822924</td>\n",
       "      <td>1145</td>\n",
       "      <td>836</td>\n",
       "      <td>17584</td>\n",
       "      <td>250000</td>\n",
       "    </tr>\n",
       "    <tr>\n",
       "      <th>...</th>\n",
       "      <td>...</td>\n",
       "      <td>...</td>\n",
       "      <td>...</td>\n",
       "      <td>...</td>\n",
       "      <td>...</td>\n",
       "      <td>...</td>\n",
       "    </tr>\n",
       "    <tr>\n",
       "      <th>1455</th>\n",
       "      <td>7</td>\n",
       "      <td>57.189542</td>\n",
       "      <td>953</td>\n",
       "      <td>460</td>\n",
       "      <td>9882</td>\n",
       "      <td>175000</td>\n",
       "    </tr>\n",
       "    <tr>\n",
       "      <th>1456</th>\n",
       "      <td>8</td>\n",
       "      <td>51.032807</td>\n",
       "      <td>1542</td>\n",
       "      <td>500</td>\n",
       "      <td>12438</td>\n",
       "      <td>210000</td>\n",
       "    </tr>\n",
       "    <tr>\n",
       "      <th>1457</th>\n",
       "      <td>9</td>\n",
       "      <td>71.180556</td>\n",
       "      <td>1152</td>\n",
       "      <td>252</td>\n",
       "      <td>16380</td>\n",
       "      <td>266500</td>\n",
       "    </tr>\n",
       "    <tr>\n",
       "      <th>1458</th>\n",
       "      <td>6</td>\n",
       "      <td>59.317613</td>\n",
       "      <td>1078</td>\n",
       "      <td>240</td>\n",
       "      <td>5390</td>\n",
       "      <td>142125</td>\n",
       "    </tr>\n",
       "    <tr>\n",
       "      <th>1459</th>\n",
       "      <td>7</td>\n",
       "      <td>52.905308</td>\n",
       "      <td>1256</td>\n",
       "      <td>276</td>\n",
       "      <td>6280</td>\n",
       "      <td>147500</td>\n",
       "    </tr>\n",
       "  </tbody>\n",
       "</table>\n",
       "<p>1457 rows × 6 columns</p>\n",
       "</div>"
      ],
      "text/plain": [
       "      total_rooms  price_by_building  TotalBsmtSF  GarageArea  \\\n",
       "0               9          66.955684          856         548   \n",
       "1               6          60.824397         1262         460   \n",
       "2               7          67.441159          920         608   \n",
       "3               8          44.943820          756         642   \n",
       "4              10          59.822924         1145         836   \n",
       "...           ...                ...          ...         ...   \n",
       "1455            7          57.189542          953         460   \n",
       "1456            8          51.032807         1542         500   \n",
       "1457            9          71.180556         1152         252   \n",
       "1458            6          59.317613         1078         240   \n",
       "1459            7          52.905308         1256         276   \n",
       "\n",
       "      qual_area_pound  SalePrice  \n",
       "0               11970     208500  \n",
       "1                7572     181500  \n",
       "2               12502     223500  \n",
       "3               12019     140000  \n",
       "4               17584     250000  \n",
       "...               ...        ...  \n",
       "1455             9882     175000  \n",
       "1456            12438     210000  \n",
       "1457            16380     266500  \n",
       "1458             5390     142125  \n",
       "1459             6280     147500  \n",
       "\n",
       "[1457 rows x 6 columns]"
      ]
     },
     "execution_count": 153,
     "metadata": {},
     "output_type": "execute_result"
    }
   ],
   "source": [
    "def preprocessing(df):\n",
    "    df['total_rooms'] = df['TotRmsAbvGrd'] + df['BsmtFullBath']\n",
    "    df['price_by_building'] = df['SalePrice'] / (df['GrLivArea'] + df['GarageArea'] + df['TotalBsmtSF'])\n",
    "    df['qual_area_pound'] = df['OverallQual'] * df['GrLivArea']\n",
    "    \n",
    "    df.drop_duplicates()\n",
    "#     drop outsider qual area pound\n",
    "    df = df.drop(523)\n",
    "    df = df.drop(1298)\n",
    "#     drop outsider price by building\n",
    "    df = df.drop(533)\n",
    "#     create a bool columns for yearbuilt\n",
    "    df['built_after_85'] = df['YearBuilt'] > 1985\n",
    "    df = df[['total_rooms', 'price_by_building', 'TotalBsmtSF', 'GarageArea', 'qual_area_pound', 'SalePrice']]\n",
    "    return df\n",
    "df = df0.copy()\n",
    "df = preprocessing(df)\n",
    "df"
   ]
  },
  {
   "cell_type": "code",
   "execution_count": 4,
   "id": "35f728ef",
   "metadata": {
    "pycharm": {
     "name": "#%%\n"
    }
   },
   "outputs": [],
   "source": [
    "def normalise (data):\n",
    "    for column in data.columns:\n",
    "        data[column] = data[column] / data[column].mean()\n",
    "    return data"
   ]
  },
  {
   "cell_type": "code",
   "execution_count": 5,
   "id": "93fff74e",
   "metadata": {
    "pycharm": {
     "name": "#%%\n"
    }
   },
   "outputs": [],
   "source": [
    "from sklearn.model_selection import train_test_split"
   ]
  },
  {
   "cell_type": "code",
   "execution_count": 71,
   "id": "1c534935",
   "metadata": {
    "pycharm": {
     "name": "#%%\n"
    }
   },
   "outputs": [],
   "source": [
    "X, y = df.drop(columns=\"SalePrice\"), df[\"SalePrice\"]\n",
    "X_train, X_test, y_train, y_test = train_test_split(X, y)"
   ]
  },
  {
   "cell_type": "code",
   "execution_count": 72,
   "id": "581d2377",
   "metadata": {
    "pycharm": {
     "name": "#%%\n"
    }
   },
   "outputs": [],
   "source": [
    "from sklearn.linear_model import LinearRegression"
   ]
  },
  {
   "cell_type": "code",
   "execution_count": 73,
   "id": "936ca943",
   "metadata": {
    "pycharm": {
     "name": "#%%\n"
    }
   },
   "outputs": [
    {
     "data": {
      "text/plain": [
       "0.9674272836016622"
      ]
     },
     "execution_count": 73,
     "metadata": {},
     "output_type": "execute_result"
    }
   ],
   "source": [
    "reg = LinearRegression().fit(X_train, y_train)\n",
    "reg.score(X_train, y_train)"
   ]
  },
  {
   "cell_type": "code",
   "execution_count": 74,
   "id": "74254151",
   "metadata": {
    "pycharm": {
     "name": "#%%\n"
    }
   },
   "outputs": [
    {
     "data": {
      "text/plain": [
       "0.9713338941575773"
      ]
     },
     "execution_count": 74,
     "metadata": {},
     "output_type": "execute_result"
    }
   ],
   "source": [
    "reg.score(X_test, y_test)"
   ]
  },
  {
   "cell_type": "code",
   "execution_count": 23,
   "id": "441db425",
   "metadata": {
    "pycharm": {
     "name": "#%%\n"
    }
   },
   "outputs": [
    {
     "data": {
      "text/plain": [
       "array([2748.25325123, 2692.5073958 ,   55.55291622,   50.44563271,\n",
       "          6.73884809])"
      ]
     },
     "execution_count": 23,
     "metadata": {},
     "output_type": "execute_result"
    }
   ],
   "source": [
    "reg.coef_"
   ]
  },
  {
   "cell_type": "code",
   "execution_count": 24,
   "id": "bd414f30",
   "metadata": {
    "pycharm": {
     "name": "#%%\n"
    }
   },
   "outputs": [
    {
     "data": {
      "text/plain": [
       "-143969.99231661574"
      ]
     },
     "execution_count": 24,
     "metadata": {},
     "output_type": "execute_result"
    }
   ],
   "source": [
    "reg.intercept_"
   ]
  },
  {
   "cell_type": "code",
   "execution_count": 138,
   "id": "5b39f679",
   "metadata": {},
   "outputs": [],
   "source": [
    "df_mean = normalise(df)"
   ]
  },
  {
   "cell_type": "code",
   "execution_count": 139,
   "id": "28051243",
   "metadata": {},
   "outputs": [
    {
     "data": {
      "text/html": [
       "<div>\n",
       "<style scoped>\n",
       "    .dataframe tbody tr th:only-of-type {\n",
       "        vertical-align: middle;\n",
       "    }\n",
       "\n",
       "    .dataframe tbody tr th {\n",
       "        vertical-align: top;\n",
       "    }\n",
       "\n",
       "    .dataframe thead th {\n",
       "        text-align: right;\n",
       "    }\n",
       "</style>\n",
       "<table border=\"1\" class=\"dataframe\">\n",
       "  <thead>\n",
       "    <tr style=\"text-align: right;\">\n",
       "      <th></th>\n",
       "      <th>total_rooms</th>\n",
       "      <th>price_by_building</th>\n",
       "      <th>TotalBsmtSF</th>\n",
       "      <th>GarageArea</th>\n",
       "      <th>qual_area_pound</th>\n",
       "      <th>SalePrice</th>\n",
       "    </tr>\n",
       "  </thead>\n",
       "  <tbody>\n",
       "    <tr>\n",
       "      <th>0</th>\n",
       "      <td>1.297161</td>\n",
       "      <td>1.139474</td>\n",
       "      <td>0.812715</td>\n",
       "      <td>1.160098</td>\n",
       "      <td>1.243917</td>\n",
       "      <td>1.151742</td>\n",
       "    </tr>\n",
       "    <tr>\n",
       "      <th>1</th>\n",
       "      <td>0.864774</td>\n",
       "      <td>1.035129</td>\n",
       "      <td>1.198185</td>\n",
       "      <td>0.973805</td>\n",
       "      <td>0.786879</td>\n",
       "      <td>1.002596</td>\n",
       "    </tr>\n",
       "    <tr>\n",
       "      <th>2</th>\n",
       "      <td>1.008903</td>\n",
       "      <td>1.147736</td>\n",
       "      <td>0.873479</td>\n",
       "      <td>1.287116</td>\n",
       "      <td>1.299202</td>\n",
       "      <td>1.234601</td>\n",
       "    </tr>\n",
       "    <tr>\n",
       "      <th>3</th>\n",
       "      <td>1.153032</td>\n",
       "      <td>0.764869</td>\n",
       "      <td>0.717772</td>\n",
       "      <td>1.359092</td>\n",
       "      <td>1.249009</td>\n",
       "      <td>0.773352</td>\n",
       "    </tr>\n",
       "    <tr>\n",
       "      <th>4</th>\n",
       "      <td>1.441290</td>\n",
       "      <td>1.018086</td>\n",
       "      <td>1.087102</td>\n",
       "      <td>1.769784</td>\n",
       "      <td>1.827321</td>\n",
       "      <td>1.380986</td>\n",
       "    </tr>\n",
       "    <tr>\n",
       "      <th>...</th>\n",
       "      <td>...</td>\n",
       "      <td>...</td>\n",
       "      <td>...</td>\n",
       "      <td>...</td>\n",
       "      <td>...</td>\n",
       "      <td>...</td>\n",
       "    </tr>\n",
       "    <tr>\n",
       "      <th>1455</th>\n",
       "      <td>1.008903</td>\n",
       "      <td>0.973270</td>\n",
       "      <td>0.904810</td>\n",
       "      <td>0.973805</td>\n",
       "      <td>1.026933</td>\n",
       "      <td>0.966690</td>\n",
       "    </tr>\n",
       "    <tr>\n",
       "      <th>1456</th>\n",
       "      <td>1.153032</td>\n",
       "      <td>0.868493</td>\n",
       "      <td>1.464027</td>\n",
       "      <td>1.058483</td>\n",
       "      <td>1.292551</td>\n",
       "      <td>1.160028</td>\n",
       "    </tr>\n",
       "    <tr>\n",
       "      <th>1457</th>\n",
       "      <td>1.297161</td>\n",
       "      <td>1.211374</td>\n",
       "      <td>1.093748</td>\n",
       "      <td>0.533476</td>\n",
       "      <td>1.702202</td>\n",
       "      <td>1.472131</td>\n",
       "    </tr>\n",
       "    <tr>\n",
       "      <th>1458</th>\n",
       "      <td>0.864774</td>\n",
       "      <td>1.009487</td>\n",
       "      <td>1.023490</td>\n",
       "      <td>0.508072</td>\n",
       "      <td>0.560126</td>\n",
       "      <td>0.785090</td>\n",
       "    </tr>\n",
       "    <tr>\n",
       "      <th>1459</th>\n",
       "      <td>1.008903</td>\n",
       "      <td>0.900360</td>\n",
       "      <td>1.192489</td>\n",
       "      <td>0.584283</td>\n",
       "      <td>0.652615</td>\n",
       "      <td>0.814782</td>\n",
       "    </tr>\n",
       "  </tbody>\n",
       "</table>\n",
       "<p>1457 rows × 6 columns</p>\n",
       "</div>"
      ],
      "text/plain": [
       "      total_rooms  price_by_building  TotalBsmtSF  GarageArea  \\\n",
       "0        1.297161           1.139474     0.812715    1.160098   \n",
       "1        0.864774           1.035129     1.198185    0.973805   \n",
       "2        1.008903           1.147736     0.873479    1.287116   \n",
       "3        1.153032           0.764869     0.717772    1.359092   \n",
       "4        1.441290           1.018086     1.087102    1.769784   \n",
       "...           ...                ...          ...         ...   \n",
       "1455     1.008903           0.973270     0.904810    0.973805   \n",
       "1456     1.153032           0.868493     1.464027    1.058483   \n",
       "1457     1.297161           1.211374     1.093748    0.533476   \n",
       "1458     0.864774           1.009487     1.023490    0.508072   \n",
       "1459     1.008903           0.900360     1.192489    0.584283   \n",
       "\n",
       "      qual_area_pound  SalePrice  \n",
       "0            1.243917   1.151742  \n",
       "1            0.786879   1.002596  \n",
       "2            1.299202   1.234601  \n",
       "3            1.249009   0.773352  \n",
       "4            1.827321   1.380986  \n",
       "...               ...        ...  \n",
       "1455         1.026933   0.966690  \n",
       "1456         1.292551   1.160028  \n",
       "1457         1.702202   1.472131  \n",
       "1458         0.560126   0.785090  \n",
       "1459         0.652615   0.814782  \n",
       "\n",
       "[1457 rows x 6 columns]"
      ]
     },
     "execution_count": 139,
     "metadata": {},
     "output_type": "execute_result"
    }
   ],
   "source": [
    "df_mean"
   ]
  },
  {
   "cell_type": "code",
   "execution_count": 75,
   "id": "d3ecc767",
   "metadata": {},
   "outputs": [],
   "source": [
    "X_mean, y_mean = df_mean.drop(columns=\"SalePrice\"), df_mean[\"SalePrice\"]\n",
    "X_mean_train, X_mean_test, y_mean_train, y_mean_test = train_test_split(X_mean, y_mean)"
   ]
  },
  {
   "cell_type": "code",
   "execution_count": 76,
   "id": "1778fee6",
   "metadata": {},
   "outputs": [
    {
     "data": {
      "text/plain": [
       "0.9666941523332327"
      ]
     },
     "execution_count": 76,
     "metadata": {},
     "output_type": "execute_result"
    }
   ],
   "source": [
    "reg_mean = LinearRegression().fit(X_mean_train, y_mean_train)\n",
    "reg_mean.score(X_mean_train, y_mean_train)"
   ]
  },
  {
   "cell_type": "code",
   "execution_count": 77,
   "id": "f7174a88",
   "metadata": {},
   "outputs": [
    {
     "data": {
      "text/plain": [
       "0.9746917080549056"
      ]
     },
     "execution_count": 77,
     "metadata": {},
     "output_type": "execute_result"
    }
   ],
   "source": [
    "reg_mean.score(X_mean_test, y_mean_test)"
   ]
  },
  {
   "cell_type": "markdown",
   "id": "99f09fbf",
   "metadata": {},
   "source": [
    "# RANDOM FOREST"
   ]
  },
  {
   "cell_type": "code",
   "execution_count": 224,
   "id": "559028b8",
   "metadata": {},
   "outputs": [],
   "source": [
    "from sklearn.ensemble import RandomForestRegressor"
   ]
  },
  {
   "cell_type": "code",
   "execution_count": 241,
   "id": "be5ae7ec",
   "metadata": {},
   "outputs": [],
   "source": [
    "X, y = df.drop(columns=\"SalePrice\"), df[\"SalePrice\"]\n",
    "X_train, X_test, y_train, y_test = train_test_split(X, y)"
   ]
  },
  {
   "cell_type": "code",
   "execution_count": 242,
   "id": "e1f76aaf",
   "metadata": {},
   "outputs": [],
   "source": [
    "regr = RandomForestRegressor(max_depth=5, random_state=0)"
   ]
  },
  {
   "cell_type": "code",
   "execution_count": 243,
   "id": "ae92e71c",
   "metadata": {},
   "outputs": [],
   "source": [
    "regr_fit = regr.fit(X_train, y_train)"
   ]
  },
  {
   "cell_type": "code",
   "execution_count": 244,
   "id": "d468494d",
   "metadata": {},
   "outputs": [],
   "source": [
    "y_pred = regr_fit.predict(X_test)"
   ]
  },
  {
   "cell_type": "code",
   "execution_count": 245,
   "id": "b8a585ce",
   "metadata": {},
   "outputs": [],
   "source": [
    "from sklearn.metrics import mean_squared_error"
   ]
  },
  {
   "cell_type": "code",
   "execution_count": 246,
   "id": "9d3c5137",
   "metadata": {},
   "outputs": [
    {
     "data": {
      "text/plain": [
       "657673441.1252321"
      ]
     },
     "execution_count": 246,
     "metadata": {},
     "output_type": "execute_result"
    }
   ],
   "source": [
    "mean_squared_error(y_pred, y_test)"
   ]
  },
  {
   "cell_type": "code",
   "execution_count": 202,
   "id": "4c893264",
   "metadata": {},
   "outputs": [],
   "source": [
    "importances_features = regr_fit.feature_importances_"
   ]
  },
  {
   "cell_type": "code",
   "execution_count": 203,
   "id": "fccdc506",
   "metadata": {},
   "outputs": [
    {
     "name": "stdout",
     "output_type": "stream",
     "text": [
      "total_rooms 0.3 %\n",
      "price_by_building 26.0 %\n",
      "TotalBsmtSF 6.9 %\n",
      "GarageArea 0.7 %\n",
      "qual_area_pound 66.1 %\n"
     ]
    }
   ],
   "source": [
    "for name, feature in zip(['total_rooms',  'price_by_building', 'TotalBsmtSF', 'GarageArea', 'qual_area_pound'], importances_features):\n",
    "    print(name, round(feature*100,1),'%')"
   ]
  },
  {
   "cell_type": "markdown",
   "id": "cf190e79",
   "metadata": {},
   "source": [
    "# RANDOM FOREST NORMALISE"
   ]
  },
  {
   "cell_type": "code",
   "execution_count": 216,
   "id": "d04d7692",
   "metadata": {},
   "outputs": [],
   "source": [
    "X_mean, y_mean = df_mean.drop(columns=\"SalePrice\"), df_mean[\"SalePrice\"]\n",
    "X_mean_train, X_mean_test, y_mean_train, y_mean_test = train_test_split(X_mean, y_mean)"
   ]
  },
  {
   "cell_type": "code",
   "execution_count": 204,
   "id": "7cc39404",
   "metadata": {},
   "outputs": [],
   "source": [
    "regr_mean = RandomForestRegressor(max_depth=5, random_state=0)"
   ]
  },
  {
   "cell_type": "code",
   "execution_count": 205,
   "id": "8e41bd8e",
   "metadata": {},
   "outputs": [],
   "source": [
    "regr_mean_fit = regr.fit(X_mean_train, y_mean_train)"
   ]
  },
  {
   "cell_type": "code",
   "execution_count": 206,
   "id": "a4ff6cea",
   "metadata": {},
   "outputs": [],
   "source": [
    "y_mean_pred = regr_mean_fit.predict(X_mean_test)"
   ]
  },
  {
   "cell_type": "code",
   "execution_count": 207,
   "id": "b4b2a6da",
   "metadata": {},
   "outputs": [
    {
     "data": {
      "text/plain": [
       "0.009801793774073317"
      ]
     },
     "execution_count": 207,
     "metadata": {},
     "output_type": "execute_result"
    }
   ],
   "source": [
    "mean_squared_error(y_mean_pred, y_mean_test)"
   ]
  },
  {
   "cell_type": "code",
   "execution_count": 174,
   "id": "d4b49a23",
   "metadata": {},
   "outputs": [],
   "source": [
    "importances_features_mean = regr_mean_fit.feature_importances_"
   ]
  },
  {
   "cell_type": "code",
   "execution_count": 175,
   "id": "d9de8545",
   "metadata": {},
   "outputs": [
    {
     "name": "stdout",
     "output_type": "stream",
     "text": [
      "total_rooms 0.2 %\n",
      "price_by_building 28.4 %\n",
      "TotalBsmtSF 5.5 %\n",
      "GarageArea 0.6 %\n",
      "qual_area_pound 65.3 %\n"
     ]
    }
   ],
   "source": [
    "for name, feature in zip(['total_rooms',  'price_by_building', 'TotalBsmtSF', 'GarageArea', 'qual_area_pound'], importances_features_mean):\n",
    "    print(name, round(feature*100,1),'%')"
   ]
  },
  {
   "cell_type": "code",
   "execution_count": null,
   "id": "be671870",
   "metadata": {},
   "outputs": [],
   "source": []
  }
 ],
 "metadata": {
  "kernelspec": {
   "display_name": "Python 3 (ipykernel)",
   "language": "python",
   "name": "python3"
  },
  "language_info": {
   "codemirror_mode": {
    "name": "ipython",
    "version": 3
   },
   "file_extension": ".py",
   "mimetype": "text/x-python",
   "name": "python",
   "nbconvert_exporter": "python",
   "pygments_lexer": "ipython3",
   "version": "3.9.12"
  }
 },
 "nbformat": 4,
 "nbformat_minor": 5
}
