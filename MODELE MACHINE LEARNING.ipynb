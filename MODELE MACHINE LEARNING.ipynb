{
 "cells": [
  {
   "cell_type": "code",
   "execution_count": 2,
   "id": "f7f76043",
   "metadata": {
    "pycharm": {
     "name": "#%%\n"
    }
   },
   "outputs": [],
   "source": [
    "import pandas as pd"
   ]
  },
  {
   "cell_type": "code",
   "execution_count": 5,
   "id": "5c9f5ebb",
   "metadata": {
    "pycharm": {
     "name": "#%%\n"
    }
   },
   "outputs": [],
   "source": [
    "df0 = pd.read_csv('train.csv')"
   ]
  },
  {
   "cell_type": "code",
   "execution_count": 6,
   "id": "8846ff0f",
   "metadata": {
    "pycharm": {
     "name": "#%%\n"
    }
   },
   "outputs": [
    {
     "data": {
      "text/html": [
       "<div>\n",
       "<style scoped>\n",
       "    .dataframe tbody tr th:only-of-type {\n",
       "        vertical-align: middle;\n",
       "    }\n",
       "\n",
       "    .dataframe tbody tr th {\n",
       "        vertical-align: top;\n",
       "    }\n",
       "\n",
       "    .dataframe thead th {\n",
       "        text-align: right;\n",
       "    }\n",
       "</style>\n",
       "<table border=\"1\" class=\"dataframe\">\n",
       "  <thead>\n",
       "    <tr style=\"text-align: right;\">\n",
       "      <th></th>\n",
       "      <th>total_rooms</th>\n",
       "      <th>price_by_building</th>\n",
       "      <th>TotalBsmtSF</th>\n",
       "      <th>GarageArea</th>\n",
       "      <th>qual_area_pound</th>\n",
       "      <th>SalePrice</th>\n",
       "    </tr>\n",
       "  </thead>\n",
       "  <tbody>\n",
       "    <tr>\n",
       "      <th>0</th>\n",
       "      <td>9</td>\n",
       "      <td>66.955684</td>\n",
       "      <td>856</td>\n",
       "      <td>548</td>\n",
       "      <td>11970</td>\n",
       "      <td>208500</td>\n",
       "    </tr>\n",
       "    <tr>\n",
       "      <th>1</th>\n",
       "      <td>6</td>\n",
       "      <td>60.824397</td>\n",
       "      <td>1262</td>\n",
       "      <td>460</td>\n",
       "      <td>7572</td>\n",
       "      <td>181500</td>\n",
       "    </tr>\n",
       "    <tr>\n",
       "      <th>2</th>\n",
       "      <td>7</td>\n",
       "      <td>67.441159</td>\n",
       "      <td>920</td>\n",
       "      <td>608</td>\n",
       "      <td>12502</td>\n",
       "      <td>223500</td>\n",
       "    </tr>\n",
       "    <tr>\n",
       "      <th>3</th>\n",
       "      <td>8</td>\n",
       "      <td>44.943820</td>\n",
       "      <td>756</td>\n",
       "      <td>642</td>\n",
       "      <td>12019</td>\n",
       "      <td>140000</td>\n",
       "    </tr>\n",
       "    <tr>\n",
       "      <th>4</th>\n",
       "      <td>10</td>\n",
       "      <td>59.822924</td>\n",
       "      <td>1145</td>\n",
       "      <td>836</td>\n",
       "      <td>17584</td>\n",
       "      <td>250000</td>\n",
       "    </tr>\n",
       "    <tr>\n",
       "      <th>...</th>\n",
       "      <td>...</td>\n",
       "      <td>...</td>\n",
       "      <td>...</td>\n",
       "      <td>...</td>\n",
       "      <td>...</td>\n",
       "      <td>...</td>\n",
       "    </tr>\n",
       "    <tr>\n",
       "      <th>1455</th>\n",
       "      <td>7</td>\n",
       "      <td>57.189542</td>\n",
       "      <td>953</td>\n",
       "      <td>460</td>\n",
       "      <td>9882</td>\n",
       "      <td>175000</td>\n",
       "    </tr>\n",
       "    <tr>\n",
       "      <th>1456</th>\n",
       "      <td>8</td>\n",
       "      <td>51.032807</td>\n",
       "      <td>1542</td>\n",
       "      <td>500</td>\n",
       "      <td>12438</td>\n",
       "      <td>210000</td>\n",
       "    </tr>\n",
       "    <tr>\n",
       "      <th>1457</th>\n",
       "      <td>9</td>\n",
       "      <td>71.180556</td>\n",
       "      <td>1152</td>\n",
       "      <td>252</td>\n",
       "      <td>16380</td>\n",
       "      <td>266500</td>\n",
       "    </tr>\n",
       "    <tr>\n",
       "      <th>1458</th>\n",
       "      <td>6</td>\n",
       "      <td>59.317613</td>\n",
       "      <td>1078</td>\n",
       "      <td>240</td>\n",
       "      <td>5390</td>\n",
       "      <td>142125</td>\n",
       "    </tr>\n",
       "    <tr>\n",
       "      <th>1459</th>\n",
       "      <td>7</td>\n",
       "      <td>52.905308</td>\n",
       "      <td>1256</td>\n",
       "      <td>276</td>\n",
       "      <td>6280</td>\n",
       "      <td>147500</td>\n",
       "    </tr>\n",
       "  </tbody>\n",
       "</table>\n",
       "<p>1457 rows × 6 columns</p>\n",
       "</div>"
      ],
      "text/plain": [
       "      total_rooms  price_by_building  TotalBsmtSF  GarageArea  \\\n",
       "0               9          66.955684          856         548   \n",
       "1               6          60.824397         1262         460   \n",
       "2               7          67.441159          920         608   \n",
       "3               8          44.943820          756         642   \n",
       "4              10          59.822924         1145         836   \n",
       "...           ...                ...          ...         ...   \n",
       "1455            7          57.189542          953         460   \n",
       "1456            8          51.032807         1542         500   \n",
       "1457            9          71.180556         1152         252   \n",
       "1458            6          59.317613         1078         240   \n",
       "1459            7          52.905308         1256         276   \n",
       "\n",
       "      qual_area_pound  SalePrice  \n",
       "0               11970     208500  \n",
       "1                7572     181500  \n",
       "2               12502     223500  \n",
       "3               12019     140000  \n",
       "4               17584     250000  \n",
       "...               ...        ...  \n",
       "1455             9882     175000  \n",
       "1456            12438     210000  \n",
       "1457            16380     266500  \n",
       "1458             5390     142125  \n",
       "1459             6280     147500  \n",
       "\n",
       "[1457 rows x 6 columns]"
      ]
     },
     "execution_count": 6,
     "metadata": {},
     "output_type": "execute_result"
    }
   ],
   "source": [
    "def preprocessing(df):\n",
    "    df['total_rooms'] = df['TotRmsAbvGrd'] + df['BsmtFullBath']\n",
    "    df['price_by_building'] = df['SalePrice'] / (df['GrLivArea'] + df['GarageArea'] + df['TotalBsmtSF'])\n",
    "    df['qual_area_pound'] = df['OverallQual'] * df['GrLivArea']\n",
    "    \n",
    "    df.drop_duplicates()\n",
    "#     drop outsider qual area pound\n",
    "    df = df.drop(523)\n",
    "    df = df.drop(1298)\n",
    "#     drop outsider price by building\n",
    "    df = df.drop(533)\n",
    "#     create a bool columns for yearbuilt\n",
    "    df['built_after_85'] = df['YearBuilt'] > 1985\n",
    "    df = df[['total_rooms', 'price_by_building', 'TotalBsmtSF', 'GarageArea', 'qual_area_pound', 'SalePrice']]\n",
    "    return df\n",
    "df = df0.copy()\n",
    "df = preprocessing(df)\n",
    "df"
   ]
  },
  {
   "cell_type": "code",
   "execution_count": null,
   "id": "35f728ef",
   "metadata": {
    "pycharm": {
     "name": "#%%\n"
    }
   },
   "outputs": [],
   "source": [
    "def normalise (df):\n",
    "    for column in df."
   ]
  },
  {
   "cell_type": "code",
   "execution_count": 12,
   "id": "93fff74e",
   "metadata": {
    "pycharm": {
     "name": "#%%\n"
    }
   },
   "outputs": [],
   "source": [
    "from sklearn.model_selection import train_test_split"
   ]
  },
  {
   "cell_type": "code",
   "execution_count": 13,
   "id": "1c534935",
   "metadata": {
    "pycharm": {
     "name": "#%%\n"
    }
   },
   "outputs": [],
   "source": [
    "X, y = df.drop(columns=\"SalePrice\"), df[\"SalePrice\"]\n",
    "X_train, X_test, y_train, y_test = train_test_split(X, y)"
   ]
  },
  {
   "cell_type": "code",
   "execution_count": 14,
   "id": "581d2377",
   "metadata": {
    "pycharm": {
     "name": "#%%\n"
    }
   },
   "outputs": [],
   "source": [
    "from sklearn.linear_model import LinearRegression"
   ]
  },
  {
   "cell_type": "code",
   "execution_count": 15,
   "id": "936ca943",
   "metadata": {
    "pycharm": {
     "name": "#%%\n"
    }
   },
   "outputs": [
    {
     "data": {
      "text/plain": [
       "0.9704885894646283"
      ]
     },
     "execution_count": 15,
     "metadata": {},
     "output_type": "execute_result"
    }
   ],
   "source": [
    "reg = LinearRegression().fit(X_train, y_train)\n",
    "reg.score(X_train, y_train)"
   ]
  },
  {
   "cell_type": "code",
   "execution_count": 20,
   "id": "74254151",
   "metadata": {
    "pycharm": {
     "name": "#%%\n"
    }
   },
   "outputs": [
    {
     "data": {
      "text/plain": [
       "0.9636532964446304"
      ]
     },
     "execution_count": 20,
     "metadata": {},
     "output_type": "execute_result"
    }
   ],
   "source": [
    "reg.score(X_test, y_test)"
   ]
  },
  {
   "cell_type": "code",
   "execution_count": 23,
   "id": "441db425",
   "metadata": {
    "pycharm": {
     "name": "#%%\n"
    }
   },
   "outputs": [
    {
     "data": {
      "text/plain": [
       "array([2748.25325123, 2692.5073958 ,   55.55291622,   50.44563271,\n",
       "          6.73884809])"
      ]
     },
     "execution_count": 23,
     "metadata": {},
     "output_type": "execute_result"
    }
   ],
   "source": [
    "reg.coef_"
   ]
  },
  {
   "cell_type": "code",
   "execution_count": 24,
   "id": "bd414f30",
   "metadata": {
    "pycharm": {
     "name": "#%%\n"
    }
   },
   "outputs": [
    {
     "data": {
      "text/plain": [
       "-143969.99231661574"
      ]
     },
     "execution_count": 24,
     "metadata": {},
     "output_type": "execute_result"
    }
   ],
   "source": [
    "reg.intercept_"
   ]
  },
  {
   "cell_type": "code",
   "execution_count": null,
   "id": "20831404",
   "metadata": {
    "pycharm": {
     "name": "#%%\n"
    }
   },
   "outputs": [],
   "source": []
  }
 ],
 "metadata": {
  "kernelspec": {
   "display_name": "Python 3 (ipykernel)",
   "language": "python",
   "name": "python3"
  },
  "language_info": {
   "codemirror_mode": {
    "name": "ipython",
    "version": 3
   },
   "file_extension": ".py",
   "mimetype": "text/x-python",
   "name": "python",
   "nbconvert_exporter": "python",
   "pygments_lexer": "ipython3",
   "version": "3.9.12"
  }
 },
 "nbformat": 4,
 "nbformat_minor": 5
}