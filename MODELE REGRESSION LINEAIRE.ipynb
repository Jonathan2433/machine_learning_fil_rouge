{
 "cells": [
  {
   "cell_type": "code",
   "execution_count": 141,
   "id": "f7f76043",
   "metadata": {
    "pycharm": {
     "name": "#%%\n"
    }
   },
   "outputs": [],
   "source": [
    "import pandas as pd"
   ]
  },
  {
   "cell_type": "code",
   "execution_count": 142,
   "id": "d5d7027e",
   "metadata": {
    "pycharm": {
     "name": "#%%\n"
    }
   },
   "outputs": [],
   "source": [
    "import numpy as np"
   ]
  },
  {
   "cell_type": "code",
   "execution_count": 143,
   "id": "04613129",
   "metadata": {
    "pycharm": {
     "name": "#%%\n"
    }
   },
   "outputs": [],
   "source": [
    "import copy"
   ]
  },
  {
   "cell_type": "code",
   "execution_count": 144,
   "id": "93fff74e",
   "metadata": {
    "pycharm": {
     "name": "#%%\n"
    }
   },
   "outputs": [],
   "source": [
    "from sklearn.model_selection import train_test_split"
   ]
  },
  {
   "cell_type": "code",
   "execution_count": 145,
   "id": "581d2377",
   "metadata": {
    "pycharm": {
     "name": "#%%\n"
    }
   },
   "outputs": [],
   "source": [
    "from sklearn.linear_model import LinearRegression"
   ]
  },
  {
   "cell_type": "code",
   "execution_count": 146,
   "id": "11e348a7",
   "metadata": {
    "pycharm": {
     "name": "#%%\n"
    }
   },
   "outputs": [],
   "source": [
    "from sklearn.ensemble import RandomForestRegressor"
   ]
  },
  {
   "cell_type": "code",
   "execution_count": 147,
   "id": "e7a263a6",
   "metadata": {
    "pycharm": {
     "name": "#%%\n"
    }
   },
   "outputs": [],
   "source": [
    "from sklearn.metrics import mean_squared_error"
   ]
  },
  {
   "cell_type": "code",
   "execution_count": 148,
   "id": "5dcdb464",
   "metadata": {
    "pycharm": {
     "name": "#%%\n"
    }
   },
   "outputs": [],
   "source": [
    "from sklearn import metrics"
   ]
  },
  {
   "cell_type": "code",
   "execution_count": 149,
   "id": "5c9f5ebb",
   "metadata": {
    "pycharm": {
     "name": "#%%\n"
    }
   },
   "outputs": [],
   "source": [
    "df0 = pd.read_csv('train.csv')"
   ]
  },
  {
   "cell_type": "code",
   "execution_count": 153,
   "id": "8846ff0f",
   "metadata": {
    "pycharm": {
     "name": "#%%\n"
    },
    "scrolled": true
   },
   "outputs": [
    {
     "data": {
      "text/html": [
       "<div>\n",
       "<style scoped>\n",
       "    .dataframe tbody tr th:only-of-type {\n",
       "        vertical-align: middle;\n",
       "    }\n",
       "\n",
       "    .dataframe tbody tr th {\n",
       "        vertical-align: top;\n",
       "    }\n",
       "\n",
       "    .dataframe thead th {\n",
       "        text-align: right;\n",
       "    }\n",
       "</style>\n",
       "<table border=\"1\" class=\"dataframe\">\n",
       "  <thead>\n",
       "    <tr style=\"text-align: right;\">\n",
       "      <th></th>\n",
       "      <th>total_rooms</th>\n",
       "      <th>TotalBsmtSF</th>\n",
       "      <th>GarageArea</th>\n",
       "      <th>qual_area_pound</th>\n",
       "      <th>SalePrice</th>\n",
       "    </tr>\n",
       "  </thead>\n",
       "  <tbody>\n",
       "    <tr>\n",
       "      <th>0</th>\n",
       "      <td>9</td>\n",
       "      <td>856</td>\n",
       "      <td>548</td>\n",
       "      <td>11970</td>\n",
       "      <td>208500</td>\n",
       "    </tr>\n",
       "    <tr>\n",
       "      <th>1</th>\n",
       "      <td>6</td>\n",
       "      <td>1262</td>\n",
       "      <td>460</td>\n",
       "      <td>7572</td>\n",
       "      <td>181500</td>\n",
       "    </tr>\n",
       "    <tr>\n",
       "      <th>2</th>\n",
       "      <td>7</td>\n",
       "      <td>920</td>\n",
       "      <td>608</td>\n",
       "      <td>12502</td>\n",
       "      <td>223500</td>\n",
       "    </tr>\n",
       "    <tr>\n",
       "      <th>3</th>\n",
       "      <td>8</td>\n",
       "      <td>756</td>\n",
       "      <td>642</td>\n",
       "      <td>12019</td>\n",
       "      <td>140000</td>\n",
       "    </tr>\n",
       "    <tr>\n",
       "      <th>4</th>\n",
       "      <td>10</td>\n",
       "      <td>1145</td>\n",
       "      <td>836</td>\n",
       "      <td>17584</td>\n",
       "      <td>250000</td>\n",
       "    </tr>\n",
       "    <tr>\n",
       "      <th>...</th>\n",
       "      <td>...</td>\n",
       "      <td>...</td>\n",
       "      <td>...</td>\n",
       "      <td>...</td>\n",
       "      <td>...</td>\n",
       "    </tr>\n",
       "    <tr>\n",
       "      <th>1455</th>\n",
       "      <td>7</td>\n",
       "      <td>953</td>\n",
       "      <td>460</td>\n",
       "      <td>9882</td>\n",
       "      <td>175000</td>\n",
       "    </tr>\n",
       "    <tr>\n",
       "      <th>1456</th>\n",
       "      <td>8</td>\n",
       "      <td>1542</td>\n",
       "      <td>500</td>\n",
       "      <td>12438</td>\n",
       "      <td>210000</td>\n",
       "    </tr>\n",
       "    <tr>\n",
       "      <th>1457</th>\n",
       "      <td>9</td>\n",
       "      <td>1152</td>\n",
       "      <td>252</td>\n",
       "      <td>16380</td>\n",
       "      <td>266500</td>\n",
       "    </tr>\n",
       "    <tr>\n",
       "      <th>1458</th>\n",
       "      <td>6</td>\n",
       "      <td>1078</td>\n",
       "      <td>240</td>\n",
       "      <td>5390</td>\n",
       "      <td>142125</td>\n",
       "    </tr>\n",
       "    <tr>\n",
       "      <th>1459</th>\n",
       "      <td>7</td>\n",
       "      <td>1256</td>\n",
       "      <td>276</td>\n",
       "      <td>6280</td>\n",
       "      <td>147500</td>\n",
       "    </tr>\n",
       "  </tbody>\n",
       "</table>\n",
       "<p>1457 rows × 5 columns</p>\n",
       "</div>"
      ],
      "text/plain": [
       "      total_rooms  TotalBsmtSF  GarageArea  qual_area_pound  SalePrice\n",
       "0               9          856         548            11970     208500\n",
       "1               6         1262         460             7572     181500\n",
       "2               7          920         608            12502     223500\n",
       "3               8          756         642            12019     140000\n",
       "4              10         1145         836            17584     250000\n",
       "...           ...          ...         ...              ...        ...\n",
       "1455            7          953         460             9882     175000\n",
       "1456            8         1542         500            12438     210000\n",
       "1457            9         1152         252            16380     266500\n",
       "1458            6         1078         240             5390     142125\n",
       "1459            7         1256         276             6280     147500\n",
       "\n",
       "[1457 rows x 5 columns]"
      ]
     },
     "execution_count": 153,
     "metadata": {},
     "output_type": "execute_result"
    }
   ],
   "source": [
    "def preprocessing(df):\n",
    "    df['total_rooms'] = df['TotRmsAbvGrd'] + df['BsmtFullBath']\n",
    "#     df['price_by_building'] = df['SalePrice'] / (df['GrLivArea'] + df['GarageArea'] + df['TotalBsmtSF'])\n",
    "    df['qual_area_pound'] = df['OverallQual'] * df['GrLivArea']\n",
    "    \n",
    "    df.drop_duplicates()\n",
    "#     drop outsider qual area pound\n",
    "    df = df.drop(523)\n",
    "    df = df.drop(1298)\n",
    "#     drop outsider price by building\n",
    "    df = df.drop(533)\n",
    "#     create a bool columns for yearbuilt\n",
    "    df['built_after_85'] = df['YearBuilt'] > 1985\n",
    "#     df = df[['total_rooms', 'price_by_building', 'TotalBsmtSF', 'GarageArea', 'qual_area_pound', 'SalePrice']]\n",
    "    df = df[['total_rooms', 'TotalBsmtSF', 'GarageArea', 'qual_area_pound', 'SalePrice']]\n",
    "    return df\n",
    "df = df0.copy()\n",
    "df = preprocessing(df)\n",
    "df"
   ]
  },
  {
   "cell_type": "code",
   "execution_count": 154,
   "id": "35f728ef",
   "metadata": {
    "pycharm": {
     "name": "#%%\n"
    }
   },
   "outputs": [],
   "source": [
    "def normalise (data):\n",
    "    for column in data.columns:\n",
    "        data[column] = data[column] / data[column].mean()\n",
    "    return data"
   ]
  },
  {
   "cell_type": "code",
   "execution_count": 155,
   "id": "1c534935",
   "metadata": {
    "pycharm": {
     "name": "#%%\n"
    }
   },
   "outputs": [],
   "source": [
    "X, y = df.drop(columns=\"SalePrice\"), df[\"SalePrice\"]\n",
    "X_train, X_test, y_train, y_test = train_test_split(X, y)"
   ]
  },
  {
   "cell_type": "code",
   "execution_count": 156,
   "id": "936ca943",
   "metadata": {
    "pycharm": {
     "name": "#%%\n"
    }
   },
   "outputs": [
    {
     "data": {
      "text/plain": [
       "0.8406487391876684"
      ]
     },
     "execution_count": 156,
     "metadata": {},
     "output_type": "execute_result"
    }
   ],
   "source": [
    "reg = LinearRegression().fit(X_train, y_train)\n",
    "reg.score(X_train, y_train)"
   ]
  },
  {
   "cell_type": "code",
   "execution_count": 157,
   "id": "74254151",
   "metadata": {
    "pycharm": {
     "name": "#%%\n"
    }
   },
   "outputs": [
    {
     "data": {
      "text/plain": [
       "0.8194085936179499"
      ]
     },
     "execution_count": 157,
     "metadata": {},
     "output_type": "execute_result"
    }
   ],
   "source": [
    "reg.score(X_test, y_test)"
   ]
  },
  {
   "cell_type": "code",
   "execution_count": 158,
   "id": "441db425",
   "metadata": {
    "pycharm": {
     "name": "#%%\n"
    }
   },
   "outputs": [
    {
     "data": {
      "text/plain": [
       "array([-2599.76442495,    46.40507556,    49.5569062 ,    11.65692334])"
      ]
     },
     "execution_count": 158,
     "metadata": {},
     "output_type": "execute_result"
    }
   ],
   "source": [
    "reg.coef_"
   ]
  },
  {
   "cell_type": "code",
   "execution_count": 159,
   "id": "077d7f59",
   "metadata": {
    "pycharm": {
     "name": "#%%\n"
    }
   },
   "outputs": [
    {
     "name": "stdout",
     "output_type": "stream",
     "text": [
      "coef total_rooms  :  -2599.7644249536775\n",
      "coef price_by_building  :  46.40507555631835\n",
      "coef TotalBsmtSF  :  49.556906200232156\n",
      "coef GarageArea  :  11.656923336656329\n"
     ]
    }
   ],
   "source": [
    "for name, feature in zip(['total_rooms',  'price_by_building', 'TotalBsmtSF', 'GarageArea', 'qual_area_pound'], reg.coef_):\n",
    "    print('coef', name,' : ', feature)"
   ]
  },
  {
   "cell_type": "code",
   "execution_count": 160,
   "id": "bd414f30",
   "metadata": {
    "pycharm": {
     "name": "#%%\n"
    }
   },
   "outputs": [
    {
     "data": {
      "text/plain": [
       "15034.324525973934"
      ]
     },
     "execution_count": 160,
     "metadata": {},
     "output_type": "execute_result"
    }
   ],
   "source": [
    "reg.intercept_"
   ]
  },
  {
   "cell_type": "code",
   "execution_count": 161,
   "id": "5b39f679",
   "metadata": {
    "pycharm": {
     "name": "#%%\n"
    }
   },
   "outputs": [],
   "source": [
    "df_mean = normalise(copy.deepcopy(df))"
   ]
  },
  {
   "cell_type": "code",
   "execution_count": 162,
   "id": "28051243",
   "metadata": {
    "pycharm": {
     "name": "#%%\n"
    }
   },
   "outputs": [
    {
     "data": {
      "text/html": [
       "<div>\n",
       "<style scoped>\n",
       "    .dataframe tbody tr th:only-of-type {\n",
       "        vertical-align: middle;\n",
       "    }\n",
       "\n",
       "    .dataframe tbody tr th {\n",
       "        vertical-align: top;\n",
       "    }\n",
       "\n",
       "    .dataframe thead th {\n",
       "        text-align: right;\n",
       "    }\n",
       "</style>\n",
       "<table border=\"1\" class=\"dataframe\">\n",
       "  <thead>\n",
       "    <tr style=\"text-align: right;\">\n",
       "      <th></th>\n",
       "      <th>total_rooms</th>\n",
       "      <th>TotalBsmtSF</th>\n",
       "      <th>GarageArea</th>\n",
       "      <th>qual_area_pound</th>\n",
       "      <th>SalePrice</th>\n",
       "    </tr>\n",
       "  </thead>\n",
       "  <tbody>\n",
       "    <tr>\n",
       "      <th>0</th>\n",
       "      <td>1.297161</td>\n",
       "      <td>0.812715</td>\n",
       "      <td>1.160098</td>\n",
       "      <td>1.243917</td>\n",
       "      <td>1.151742</td>\n",
       "    </tr>\n",
       "    <tr>\n",
       "      <th>1</th>\n",
       "      <td>0.864774</td>\n",
       "      <td>1.198185</td>\n",
       "      <td>0.973805</td>\n",
       "      <td>0.786879</td>\n",
       "      <td>1.002596</td>\n",
       "    </tr>\n",
       "    <tr>\n",
       "      <th>2</th>\n",
       "      <td>1.008903</td>\n",
       "      <td>0.873479</td>\n",
       "      <td>1.287116</td>\n",
       "      <td>1.299202</td>\n",
       "      <td>1.234601</td>\n",
       "    </tr>\n",
       "    <tr>\n",
       "      <th>3</th>\n",
       "      <td>1.153032</td>\n",
       "      <td>0.717772</td>\n",
       "      <td>1.359092</td>\n",
       "      <td>1.249009</td>\n",
       "      <td>0.773352</td>\n",
       "    </tr>\n",
       "    <tr>\n",
       "      <th>4</th>\n",
       "      <td>1.441290</td>\n",
       "      <td>1.087102</td>\n",
       "      <td>1.769784</td>\n",
       "      <td>1.827321</td>\n",
       "      <td>1.380986</td>\n",
       "    </tr>\n",
       "    <tr>\n",
       "      <th>...</th>\n",
       "      <td>...</td>\n",
       "      <td>...</td>\n",
       "      <td>...</td>\n",
       "      <td>...</td>\n",
       "      <td>...</td>\n",
       "    </tr>\n",
       "    <tr>\n",
       "      <th>1455</th>\n",
       "      <td>1.008903</td>\n",
       "      <td>0.904810</td>\n",
       "      <td>0.973805</td>\n",
       "      <td>1.026933</td>\n",
       "      <td>0.966690</td>\n",
       "    </tr>\n",
       "    <tr>\n",
       "      <th>1456</th>\n",
       "      <td>1.153032</td>\n",
       "      <td>1.464027</td>\n",
       "      <td>1.058483</td>\n",
       "      <td>1.292551</td>\n",
       "      <td>1.160028</td>\n",
       "    </tr>\n",
       "    <tr>\n",
       "      <th>1457</th>\n",
       "      <td>1.297161</td>\n",
       "      <td>1.093748</td>\n",
       "      <td>0.533476</td>\n",
       "      <td>1.702202</td>\n",
       "      <td>1.472131</td>\n",
       "    </tr>\n",
       "    <tr>\n",
       "      <th>1458</th>\n",
       "      <td>0.864774</td>\n",
       "      <td>1.023490</td>\n",
       "      <td>0.508072</td>\n",
       "      <td>0.560126</td>\n",
       "      <td>0.785090</td>\n",
       "    </tr>\n",
       "    <tr>\n",
       "      <th>1459</th>\n",
       "      <td>1.008903</td>\n",
       "      <td>1.192489</td>\n",
       "      <td>0.584283</td>\n",
       "      <td>0.652615</td>\n",
       "      <td>0.814782</td>\n",
       "    </tr>\n",
       "  </tbody>\n",
       "</table>\n",
       "<p>1457 rows × 5 columns</p>\n",
       "</div>"
      ],
      "text/plain": [
       "      total_rooms  TotalBsmtSF  GarageArea  qual_area_pound  SalePrice\n",
       "0        1.297161     0.812715    1.160098         1.243917   1.151742\n",
       "1        0.864774     1.198185    0.973805         0.786879   1.002596\n",
       "2        1.008903     0.873479    1.287116         1.299202   1.234601\n",
       "3        1.153032     0.717772    1.359092         1.249009   0.773352\n",
       "4        1.441290     1.087102    1.769784         1.827321   1.380986\n",
       "...           ...          ...         ...              ...        ...\n",
       "1455     1.008903     0.904810    0.973805         1.026933   0.966690\n",
       "1456     1.153032     1.464027    1.058483         1.292551   1.160028\n",
       "1457     1.297161     1.093748    0.533476         1.702202   1.472131\n",
       "1458     0.864774     1.023490    0.508072         0.560126   0.785090\n",
       "1459     1.008903     1.192489    0.584283         0.652615   0.814782\n",
       "\n",
       "[1457 rows x 5 columns]"
      ]
     },
     "execution_count": 162,
     "metadata": {},
     "output_type": "execute_result"
    }
   ],
   "source": [
    "df_mean"
   ]
  },
  {
   "cell_type": "code",
   "execution_count": 163,
   "id": "d3ecc767",
   "metadata": {
    "pycharm": {
     "name": "#%%\n"
    }
   },
   "outputs": [],
   "source": [
    "X_mean, y_mean = df_mean.drop(columns=\"SalePrice\"), df_mean[\"SalePrice\"]\n",
    "X_mean_train, X_mean_test, y_mean_train, y_mean_test = train_test_split(X_mean, y_mean)"
   ]
  },
  {
   "cell_type": "code",
   "execution_count": 164,
   "id": "1778fee6",
   "metadata": {
    "pycharm": {
     "name": "#%%\n"
    }
   },
   "outputs": [
    {
     "data": {
      "text/plain": [
       "0.839125960162157"
      ]
     },
     "execution_count": 164,
     "metadata": {},
     "output_type": "execute_result"
    }
   ],
   "source": [
    "reg_mean = LinearRegression().fit(X_mean_train, y_mean_train)\n",
    "reg_mean.score(X_mean_train, y_mean_train)"
   ]
  },
  {
   "cell_type": "code",
   "execution_count": 165,
   "id": "f7174a88",
   "metadata": {
    "pycharm": {
     "name": "#%%\n"
    }
   },
   "outputs": [
    {
     "data": {
      "text/plain": [
       "0.8221536690114812"
      ]
     },
     "execution_count": 165,
     "metadata": {},
     "output_type": "execute_result"
    }
   ],
   "source": [
    "reg_mean.score(X_mean_test, y_mean_test)"
   ]
  },
  {
   "cell_type": "code",
   "execution_count": 166,
   "id": "8ec61121",
   "metadata": {
    "pycharm": {
     "name": "#%%\n"
    }
   },
   "outputs": [
    {
     "data": {
      "text/plain": [
       "array([-0.1142449 ,  0.26325788,  0.14812459,  0.62220511])"
      ]
     },
     "execution_count": 166,
     "metadata": {},
     "output_type": "execute_result"
    }
   ],
   "source": [
    "reg_mean.coef_"
   ]
  },
  {
   "cell_type": "code",
   "execution_count": 167,
   "id": "bbad5639",
   "metadata": {
    "pycharm": {
     "name": "#%%\n"
    }
   },
   "outputs": [
    {
     "name": "stdout",
     "output_type": "stream",
     "text": [
      "coef total_rooms  :  -0.11424489589822077\n",
      "coef price_by_building  :  0.26325788057471494\n",
      "coef TotalBsmtSF  :  0.1481245874674861\n",
      "coef GarageArea  :  0.6222051081335318\n"
     ]
    }
   ],
   "source": [
    "for name, feature in zip(['total_rooms',  'price_by_building', 'TotalBsmtSF', 'GarageArea', 'qual_area_pound'], reg_mean.coef_):\n",
    "    print('coef', name,' : ', feature)"
   ]
  },
  {
   "cell_type": "markdown",
   "id": "e8eedd49",
   "metadata": {
    "pycharm": {
     "name": "#%% md\n"
    }
   },
   "source": [
    "# RANDOM FOREST"
   ]
  },
  {
   "cell_type": "code",
   "execution_count": 168,
   "id": "d89f5e38",
   "metadata": {
    "pycharm": {
     "name": "#%%\n"
    }
   },
   "outputs": [],
   "source": [
    "X, y = df.drop(columns=\"SalePrice\"), df[\"SalePrice\"]\n",
    "X_train, X_test, y_train, y_test = train_test_split(X, y)"
   ]
  },
  {
   "cell_type": "code",
   "execution_count": 169,
   "id": "f66a2c0a",
   "metadata": {
    "pycharm": {
     "name": "#%%\n"
    }
   },
   "outputs": [],
   "source": [
    "regr = RandomForestRegressor(max_depth=500, random_state=0)"
   ]
  },
  {
   "cell_type": "code",
   "execution_count": 170,
   "id": "952a7803",
   "metadata": {
    "pycharm": {
     "name": "#%%\n"
    }
   },
   "outputs": [],
   "source": [
    "regr_fit = regr.fit(X_train, y_train)"
   ]
  },
  {
   "cell_type": "code",
   "execution_count": 171,
   "id": "2c5d0263",
   "metadata": {
    "pycharm": {
     "name": "#%%\n"
    }
   },
   "outputs": [],
   "source": [
    "y_pred = regr_fit.predict(X_test)"
   ]
  },
  {
   "cell_type": "code",
   "execution_count": 172,
   "id": "1c62dfbf",
   "metadata": {
    "pycharm": {
     "name": "#%%\n"
    }
   },
   "outputs": [
    {
     "data": {
      "text/plain": [
       "1126320705.287599"
      ]
     },
     "execution_count": 172,
     "metadata": {},
     "output_type": "execute_result"
    }
   ],
   "source": [
    "mean_squared_error(y_pred, y_test)"
   ]
  },
  {
   "cell_type": "code",
   "execution_count": 173,
   "id": "0e72e57e",
   "metadata": {
    "pycharm": {
     "name": "#%%\n"
    }
   },
   "outputs": [
    {
     "data": {
      "text/plain": [
       "33560.701799688264"
      ]
     },
     "execution_count": 173,
     "metadata": {},
     "output_type": "execute_result"
    }
   ],
   "source": [
    "np.sqrt(mean_squared_error(y_pred, y_test))"
   ]
  },
  {
   "cell_type": "code",
   "execution_count": 174,
   "id": "41448bbb",
   "metadata": {
    "pycharm": {
     "name": "#%%\n"
    }
   },
   "outputs": [
    {
     "data": {
      "text/plain": [
       "177171.42465753425"
      ]
     },
     "execution_count": 174,
     "metadata": {},
     "output_type": "execute_result"
    }
   ],
   "source": [
    "y_test.mean()"
   ]
  },
  {
   "cell_type": "code",
   "execution_count": 175,
   "id": "34cb74a7",
   "metadata": {
    "pycharm": {
     "name": "#%%\n"
    }
   },
   "outputs": [
    {
     "data": {
      "text/plain": [
       "0.03588184064077337"
      ]
     },
     "execution_count": 175,
     "metadata": {},
     "output_type": "execute_result"
    }
   ],
   "source": [
    "mean_squared_error(y_pred, y_test) / y_test.mean()**2"
   ]
  },
  {
   "cell_type": "code",
   "execution_count": 176,
   "id": "2060964d",
   "metadata": {
    "pycharm": {
     "name": "#%%\n"
    },
    "scrolled": true
   },
   "outputs": [
    {
     "name": "stdout",
     "output_type": "stream",
     "text": [
      "Mean Absolute Error: 21877.45820900195\n"
     ]
    }
   ],
   "source": [
    "print('Mean Absolute Error:', metrics.mean_absolute_error(y_test, y_pred))  "
   ]
  },
  {
   "cell_type": "code",
   "execution_count": 177,
   "id": "49fc303c",
   "metadata": {
    "pycharm": {
     "name": "#%%\n"
    }
   },
   "outputs": [],
   "source": [
    "importances_features = regr_fit.feature_importances_"
   ]
  },
  {
   "cell_type": "code",
   "execution_count": 178,
   "id": "e7ad0ea7",
   "metadata": {
    "pycharm": {
     "name": "#%%\n"
    }
   },
   "outputs": [
    {
     "name": "stdout",
     "output_type": "stream",
     "text": [
      "total_rooms 2.1 %\n",
      "price_by_building 13.3 %\n",
      "TotalBsmtSF 5.6 %\n",
      "GarageArea 79.0 %\n"
     ]
    }
   ],
   "source": [
    "for name, feature in zip(['total_rooms',  'price_by_building', 'TotalBsmtSF', 'GarageArea', 'qual_area_pound'], importances_features):\n",
    "    print(name, round(feature*100,1),'%')"
   ]
  },
  {
   "cell_type": "markdown",
   "id": "02384375",
   "metadata": {
    "pycharm": {
     "name": "#%% md\n"
    }
   },
   "source": [
    "# RANDOM FOREST NORMALISE"
   ]
  },
  {
   "cell_type": "code",
   "execution_count": 179,
   "id": "513700e6",
   "metadata": {
    "pycharm": {
     "name": "#%%\n"
    }
   },
   "outputs": [],
   "source": [
    "X_mean, y_mean = df_mean.drop(columns=\"SalePrice\"), df_mean[\"SalePrice\"]\n",
    "X_mean_train, X_mean_test, y_mean_train, y_mean_test = train_test_split(X_mean, y_mean)"
   ]
  },
  {
   "cell_type": "code",
   "execution_count": 180,
   "id": "106a4734",
   "metadata": {
    "pycharm": {
     "name": "#%%\n"
    }
   },
   "outputs": [],
   "source": [
    "regr_mean = RandomForestRegressor(max_depth=5, random_state=0)"
   ]
  },
  {
   "cell_type": "code",
   "execution_count": 181,
   "id": "21cb06b2",
   "metadata": {
    "pycharm": {
     "name": "#%%\n"
    }
   },
   "outputs": [],
   "source": [
    "regr_mean_fit = regr.fit(X_mean_train, y_mean_train)"
   ]
  },
  {
   "cell_type": "code",
   "execution_count": 182,
   "id": "3c73f4b4",
   "metadata": {
    "pycharm": {
     "name": "#%%\n"
    }
   },
   "outputs": [],
   "source": [
    "y_mean_pred = regr_mean_fit.predict(X_mean_test)"
   ]
  },
  {
   "cell_type": "code",
   "execution_count": 183,
   "id": "5577cfe6",
   "metadata": {
    "pycharm": {
     "name": "#%%\n"
    }
   },
   "outputs": [
    {
     "data": {
      "text/plain": [
       "0.027342883355051303"
      ]
     },
     "execution_count": 183,
     "metadata": {},
     "output_type": "execute_result"
    }
   ],
   "source": [
    "mean_squared_error(y_mean_pred, y_mean_test)"
   ]
  },
  {
   "cell_type": "code",
   "execution_count": 184,
   "id": "fefde661",
   "metadata": {
    "pycharm": {
     "name": "#%%\n"
    }
   },
   "outputs": [],
   "source": [
    "importances_features_mean = regr_mean_fit.feature_importances_"
   ]
  },
  {
   "cell_type": "code",
   "execution_count": 185,
   "id": "15671e03",
   "metadata": {
    "pycharm": {
     "name": "#%%\n"
    }
   },
   "outputs": [
    {
     "name": "stdout",
     "output_type": "stream",
     "text": [
      "total_rooms 2.4 %\n",
      "price_by_building 11.9 %\n",
      "TotalBsmtSF 5.7 %\n",
      "GarageArea 80.0 %\n"
     ]
    }
   ],
   "source": [
    "for name, feature in zip(['total_rooms',  'price_by_building', 'TotalBsmtSF', 'GarageArea', 'qual_area_pound'], importances_features_mean):\n",
    "    print(name, round(feature*100,1),'%')"
   ]
  },
  {
   "cell_type": "markdown",
   "id": "28046567",
   "metadata": {
    "pycharm": {
     "name": "#%% md\n"
    }
   },
   "source": [
    "## TEST NORMALISE"
   ]
  },
  {
   "cell_type": "code",
   "execution_count": 186,
   "id": "0dc191ef",
   "metadata": {
    "pycharm": {
     "name": "#%%\n"
    }
   },
   "outputs": [],
   "source": [
    "test = X_mean_test[65:66]"
   ]
  },
  {
   "cell_type": "code",
   "execution_count": 187,
   "id": "8574a6fe",
   "metadata": {
    "pycharm": {
     "name": "#%%\n"
    }
   },
   "outputs": [],
   "source": [
    "prediction = regr_mean_fit.predict(test)"
   ]
  },
  {
   "cell_type": "code",
   "execution_count": 188,
   "id": "f58f1a59",
   "metadata": {
    "pycharm": {
     "name": "#%%\n"
    }
   },
   "outputs": [
    {
     "data": {
      "text/plain": [
       "array([1.07441497])"
      ]
     },
     "execution_count": 188,
     "metadata": {},
     "output_type": "execute_result"
    }
   ],
   "source": [
    "prediction"
   ]
  },
  {
   "cell_type": "code",
   "execution_count": 189,
   "id": "c8d5af65",
   "metadata": {
    "pycharm": {
     "name": "#%%\n"
    }
   },
   "outputs": [
    {
     "data": {
      "text/html": [
       "<div>\n",
       "<style scoped>\n",
       "    .dataframe tbody tr th:only-of-type {\n",
       "        vertical-align: middle;\n",
       "    }\n",
       "\n",
       "    .dataframe tbody tr th {\n",
       "        vertical-align: top;\n",
       "    }\n",
       "\n",
       "    .dataframe thead th {\n",
       "        text-align: right;\n",
       "    }\n",
       "</style>\n",
       "<table border=\"1\" class=\"dataframe\">\n",
       "  <thead>\n",
       "    <tr style=\"text-align: right;\">\n",
       "      <th></th>\n",
       "      <th>total_rooms</th>\n",
       "      <th>TotalBsmtSF</th>\n",
       "      <th>GarageArea</th>\n",
       "      <th>qual_area_pound</th>\n",
       "    </tr>\n",
       "  </thead>\n",
       "  <tbody>\n",
       "    <tr>\n",
       "      <th>1132</th>\n",
       "      <td>1.153032</td>\n",
       "      <td>0.957029</td>\n",
       "      <td>0.433978</td>\n",
       "      <td>1.377973</td>\n",
       "    </tr>\n",
       "  </tbody>\n",
       "</table>\n",
       "</div>"
      ],
      "text/plain": [
       "      total_rooms  TotalBsmtSF  GarageArea  qual_area_pound\n",
       "1132     1.153032     0.957029    0.433978         1.377973"
      ]
     },
     "execution_count": 189,
     "metadata": {},
     "output_type": "execute_result"
    }
   ],
   "source": [
    "test"
   ]
  },
  {
   "cell_type": "code",
   "execution_count": 204,
   "id": "dd445dba",
   "metadata": {
    "pycharm": {
     "name": "#%%\n"
    },
    "scrolled": false
   },
   "outputs": [
    {
     "data": {
      "text/html": [
       "<div>\n",
       "<style scoped>\n",
       "    .dataframe tbody tr th:only-of-type {\n",
       "        vertical-align: middle;\n",
       "    }\n",
       "\n",
       "    .dataframe tbody tr th {\n",
       "        vertical-align: top;\n",
       "    }\n",
       "\n",
       "    .dataframe thead th {\n",
       "        text-align: right;\n",
       "    }\n",
       "</style>\n",
       "<table border=\"1\" class=\"dataframe\">\n",
       "  <thead>\n",
       "    <tr style=\"text-align: right;\">\n",
       "      <th></th>\n",
       "      <th>total_rooms</th>\n",
       "      <th>TotalBsmtSF</th>\n",
       "      <th>GarageArea</th>\n",
       "      <th>qual_area_pound</th>\n",
       "      <th>SalePrice</th>\n",
       "    </tr>\n",
       "  </thead>\n",
       "  <tbody>\n",
       "  </tbody>\n",
       "</table>\n",
       "</div>"
      ],
      "text/plain": [
       "Empty DataFrame\n",
       "Columns: [total_rooms, TotalBsmtSF, GarageArea, qual_area_pound, SalePrice]\n",
       "Index: []"
      ]
     },
     "execution_count": 204,
     "metadata": {},
     "output_type": "execute_result"
    }
   ],
   "source": [
    "df_mean.loc[(df_mean['qual_area_pound'] == 1.377973)]"
   ]
  },
  {
   "cell_type": "code",
   "execution_count": 191,
   "id": "9ab3696f",
   "metadata": {},
   "outputs": [
    {
     "data": {
      "text/plain": [
       "total_rooms        1.008903\n",
       "TotalBsmtSF        0.869681\n",
       "GarageArea         0.973805\n",
       "qual_area_pound    0.997628\n",
       "SalePrice          0.933546\n",
       "Name: 1134, dtype: float64"
      ]
     },
     "execution_count": 191,
     "metadata": {},
     "output_type": "execute_result"
    }
   ],
   "source": [
    "df_mean.iloc[1132]"
   ]
  },
  {
   "cell_type": "markdown",
   "id": "5419919a",
   "metadata": {
    "pycharm": {
     "name": "#%% md\n"
    }
   },
   "source": [
    "## NON NORMALISE"
   ]
  },
  {
   "cell_type": "code",
   "execution_count": 205,
   "id": "ce532f08",
   "metadata": {
    "pycharm": {
     "name": "#%%\n"
    }
   },
   "outputs": [],
   "source": [
    "no_normalise_test = X_test[57:58]"
   ]
  },
  {
   "cell_type": "code",
   "execution_count": 206,
   "id": "54838282",
   "metadata": {
    "pycharm": {
     "name": "#%%\n"
    }
   },
   "outputs": [
    {
     "data": {
      "text/html": [
       "<div>\n",
       "<style scoped>\n",
       "    .dataframe tbody tr th:only-of-type {\n",
       "        vertical-align: middle;\n",
       "    }\n",
       "\n",
       "    .dataframe tbody tr th {\n",
       "        vertical-align: top;\n",
       "    }\n",
       "\n",
       "    .dataframe thead th {\n",
       "        text-align: right;\n",
       "    }\n",
       "</style>\n",
       "<table border=\"1\" class=\"dataframe\">\n",
       "  <thead>\n",
       "    <tr style=\"text-align: right;\">\n",
       "      <th></th>\n",
       "      <th>total_rooms</th>\n",
       "      <th>TotalBsmtSF</th>\n",
       "      <th>GarageArea</th>\n",
       "      <th>qual_area_pound</th>\n",
       "    </tr>\n",
       "  </thead>\n",
       "  <tbody>\n",
       "    <tr>\n",
       "      <th>1277</th>\n",
       "      <td>8</td>\n",
       "      <td>1680</td>\n",
       "      <td>480</td>\n",
       "      <td>10344</td>\n",
       "    </tr>\n",
       "  </tbody>\n",
       "</table>\n",
       "</div>"
      ],
      "text/plain": [
       "      total_rooms  TotalBsmtSF  GarageArea  qual_area_pound\n",
       "1277            8         1680         480            10344"
      ]
     },
     "execution_count": 206,
     "metadata": {},
     "output_type": "execute_result"
    }
   ],
   "source": [
    "no_normalise_test"
   ]
  },
  {
   "cell_type": "code",
   "execution_count": 207,
   "id": "b2cfe586",
   "metadata": {
    "pycharm": {
     "name": "#%%\n"
    }
   },
   "outputs": [],
   "source": [
    "regr_fit = regr.fit(X_train, y_train)"
   ]
  },
  {
   "cell_type": "code",
   "execution_count": 208,
   "id": "55535165",
   "metadata": {
    "pycharm": {
     "name": "#%%\n"
    }
   },
   "outputs": [],
   "source": [
    "prediction_non_normalise = regr_fit.predict(no_normalise_test)"
   ]
  },
  {
   "cell_type": "code",
   "execution_count": 209,
   "id": "c1f7d274",
   "metadata": {
    "pycharm": {
     "name": "#%%\n"
    }
   },
   "outputs": [
    {
     "data": {
      "text/plain": [
       "array([201431.05])"
      ]
     },
     "execution_count": 209,
     "metadata": {},
     "output_type": "execute_result"
    }
   ],
   "source": [
    "prediction_non_normalise"
   ]
  },
  {
   "cell_type": "code",
   "execution_count": 210,
   "id": "909eabe7",
   "metadata": {
    "pycharm": {
     "name": "#%%\n"
    }
   },
   "outputs": [
    {
     "data": {
      "text/html": [
       "<div>\n",
       "<style scoped>\n",
       "    .dataframe tbody tr th:only-of-type {\n",
       "        vertical-align: middle;\n",
       "    }\n",
       "\n",
       "    .dataframe tbody tr th {\n",
       "        vertical-align: top;\n",
       "    }\n",
       "\n",
       "    .dataframe thead th {\n",
       "        text-align: right;\n",
       "    }\n",
       "</style>\n",
       "<table border=\"1\" class=\"dataframe\">\n",
       "  <thead>\n",
       "    <tr style=\"text-align: right;\">\n",
       "      <th></th>\n",
       "      <th>total_rooms</th>\n",
       "      <th>TotalBsmtSF</th>\n",
       "      <th>GarageArea</th>\n",
       "      <th>qual_area_pound</th>\n",
       "      <th>SalePrice</th>\n",
       "    </tr>\n",
       "  </thead>\n",
       "  <tbody>\n",
       "    <tr>\n",
       "      <th>1277</th>\n",
       "      <td>8</td>\n",
       "      <td>1680</td>\n",
       "      <td>480</td>\n",
       "      <td>10344</td>\n",
       "      <td>197900</td>\n",
       "    </tr>\n",
       "  </tbody>\n",
       "</table>\n",
       "</div>"
      ],
      "text/plain": [
       "      total_rooms  TotalBsmtSF  GarageArea  qual_area_pound  SalePrice\n",
       "1277            8         1680         480            10344     197900"
      ]
     },
     "execution_count": 210,
     "metadata": {},
     "output_type": "execute_result"
    }
   ],
   "source": [
    "df.loc[(df['GarageArea'] == 480) & (df['TotalBsmtSF'] ==1680)]"
   ]
  },
  {
   "cell_type": "code",
   "execution_count": 199,
   "id": "971b5a7a",
   "metadata": {
    "pycharm": {
     "name": "#%%\n"
    }
   },
   "outputs": [],
   "source": [
    "no_normalise_test = X_test[24:25]"
   ]
  },
  {
   "cell_type": "code",
   "execution_count": 200,
   "id": "6d2f4651",
   "metadata": {
    "pycharm": {
     "name": "#%%\n"
    }
   },
   "outputs": [
    {
     "data": {
      "text/html": [
       "<div>\n",
       "<style scoped>\n",
       "    .dataframe tbody tr th:only-of-type {\n",
       "        vertical-align: middle;\n",
       "    }\n",
       "\n",
       "    .dataframe tbody tr th {\n",
       "        vertical-align: top;\n",
       "    }\n",
       "\n",
       "    .dataframe thead th {\n",
       "        text-align: right;\n",
       "    }\n",
       "</style>\n",
       "<table border=\"1\" class=\"dataframe\">\n",
       "  <thead>\n",
       "    <tr style=\"text-align: right;\">\n",
       "      <th></th>\n",
       "      <th>total_rooms</th>\n",
       "      <th>TotalBsmtSF</th>\n",
       "      <th>GarageArea</th>\n",
       "      <th>qual_area_pound</th>\n",
       "    </tr>\n",
       "  </thead>\n",
       "  <tbody>\n",
       "    <tr>\n",
       "      <th>564</th>\n",
       "      <td>10</td>\n",
       "      <td>1095</td>\n",
       "      <td>590</td>\n",
       "      <td>16065</td>\n",
       "    </tr>\n",
       "  </tbody>\n",
       "</table>\n",
       "</div>"
      ],
      "text/plain": [
       "     total_rooms  TotalBsmtSF  GarageArea  qual_area_pound\n",
       "564           10         1095         590            16065"
      ]
     },
     "execution_count": 200,
     "metadata": {},
     "output_type": "execute_result"
    }
   ],
   "source": [
    "no_normalise_test"
   ]
  },
  {
   "cell_type": "code",
   "execution_count": 201,
   "id": "67fd2319",
   "metadata": {
    "pycharm": {
     "name": "#%%\n"
    }
   },
   "outputs": [],
   "source": [
    "prediction_non_normalise = regr_fit.predict(no_normalise_test)"
   ]
  },
  {
   "cell_type": "code",
   "execution_count": 202,
   "id": "2e90b14d",
   "metadata": {
    "pycharm": {
     "name": "#%%\n"
    }
   },
   "outputs": [
    {
     "data": {
      "text/plain": [
       "array([253399.13])"
      ]
     },
     "execution_count": 202,
     "metadata": {},
     "output_type": "execute_result"
    }
   ],
   "source": [
    "prediction_non_normalise"
   ]
  },
  {
   "cell_type": "code",
   "execution_count": 203,
   "id": "e56d8142",
   "metadata": {
    "pycharm": {
     "name": "#%%\n"
    }
   },
   "outputs": [
    {
     "data": {
      "text/html": [
       "<div>\n",
       "<style scoped>\n",
       "    .dataframe tbody tr th:only-of-type {\n",
       "        vertical-align: middle;\n",
       "    }\n",
       "\n",
       "    .dataframe tbody tr th {\n",
       "        vertical-align: top;\n",
       "    }\n",
       "\n",
       "    .dataframe thead th {\n",
       "        text-align: right;\n",
       "    }\n",
       "</style>\n",
       "<table border=\"1\" class=\"dataframe\">\n",
       "  <thead>\n",
       "    <tr style=\"text-align: right;\">\n",
       "      <th></th>\n",
       "      <th>total_rooms</th>\n",
       "      <th>TotalBsmtSF</th>\n",
       "      <th>GarageArea</th>\n",
       "      <th>qual_area_pound</th>\n",
       "      <th>SalePrice</th>\n",
       "    </tr>\n",
       "  </thead>\n",
       "  <tbody>\n",
       "    <tr>\n",
       "      <th>564</th>\n",
       "      <td>10</td>\n",
       "      <td>1095</td>\n",
       "      <td>590</td>\n",
       "      <td>16065</td>\n",
       "      <td>268000</td>\n",
       "    </tr>\n",
       "  </tbody>\n",
       "</table>\n",
       "</div>"
      ],
      "text/plain": [
       "     total_rooms  TotalBsmtSF  GarageArea  qual_area_pound  SalePrice\n",
       "564           10         1095         590            16065     268000"
      ]
     },
     "execution_count": 203,
     "metadata": {},
     "output_type": "execute_result"
    }
   ],
   "source": [
    "df.loc[(df['GarageArea'] == 590) & (df['TotalBsmtSF'] ==1095)]"
   ]
  },
  {
   "cell_type": "code",
   "execution_count": null,
   "id": "31a1394a",
   "metadata": {
    "pycharm": {
     "name": "#%%\n"
    }
   },
   "outputs": [],
   "source": []
  }
 ],
 "metadata": {
  "kernelspec": {
   "display_name": "Python 3 (ipykernel)",
   "language": "python",
   "name": "python3"
  },
  "language_info": {
   "codemirror_mode": {
    "name": "ipython",
    "version": 3
   },
   "file_extension": ".py",
   "mimetype": "text/x-python",
   "name": "python",
   "nbconvert_exporter": "python",
   "pygments_lexer": "ipython3",
   "version": "3.9.12"
  }
 },
 "nbformat": 4,
 "nbformat_minor": 5
}